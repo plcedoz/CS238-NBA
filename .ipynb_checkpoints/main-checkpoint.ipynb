{
 "cells": [
  {
   "cell_type": "code",
   "execution_count": 67,
   "metadata": {},
   "outputs": [],
   "source": [
    "import random\n",
    "import numpy as np\n",
    "\n",
    "from team import Team\n",
    "\n",
    "class State(object):\n",
    "    \n",
    "    def __init__(self, team1, team2):    \n",
    "        self.team1 = team1\n",
    "        self.team2 = team2\n",
    "\n",
    "\n",
    "def compute_PR(team1, team2, action1):\n",
    "    \n",
    "    #Update the power ratings\n",
    "    PRs1=team1.PRConstant-repeatPenaltyScaler*team1.repeatPenaltyArr\n",
    "    PRs2=team2.PRConstant-repeatPenaltyScaler*team2.repeatPenaltyArr\n",
    "\n",
    "    #UNIMPLEMENTED YET: update with the player injury update\n",
    "    \n",
    "    PR1_picked = PRs1[action1];\n",
    "    action2 = np.argmax(PRs2)\n",
    "    PR2_picked = PRs2[action2] #assume opponent always plays their most dominant style at the beginning\n",
    "\n",
    "    #scale them with (1-win rate) of the opponent vs the style they pick\n",
    "    WRs1=team1.winrateVSStyles\n",
    "    WRs2=team2.winrateVSStyles\n",
    "\n",
    "    PR1_picked = PR1_picked * (1 - WRs2[action1])\n",
    "    PR2_picked = PR2_picked * (1 - WRs1[action2])\n",
    "    \n",
    "    return PR1_picked, PR2_picked, action2\n",
    "    \n",
    "    \n",
    "def get_reward_next_state(state, action1, repeatPenaltyScaler=10):\n",
    "\n",
    "    team1 = state.team1\n",
    "    team2 = state.team2\n",
    "\n",
    "    PR1_picked, PR2_picked, action2 = compute_PR(team1, team2, action1)\n",
    "\n",
    "    #generate the reward by drawing from distribution\n",
    "    proba = PR1_picked/(PR1_picked+PR2_picked)\n",
    "    reward = int(random.random() < proba)\n",
    "\n",
    "    team1.updateTeam(action1)\n",
    "    team2.updateTeam(action2)\n",
    "    next_state = State(team1, team2)\n",
    "    \n",
    "    return reward, next_state\n",
    "\n",
    "    "
   ]
  },
  {
   "cell_type": "code",
   "execution_count": 28,
   "metadata": {},
   "outputs": [],
   "source": []
  }
 ],
 "metadata": {
  "kernelspec": {
   "display_name": "Python 3",
   "language": "python",
   "name": "python3"
  },
  "language_info": {
   "codemirror_mode": {
    "name": "ipython",
    "version": 3
   },
   "file_extension": ".py",
   "mimetype": "text/x-python",
   "name": "python",
   "nbconvert_exporter": "python",
   "pygments_lexer": "ipython3",
   "version": "3.6.3"
  }
 },
 "nbformat": 4,
 "nbformat_minor": 2
}
