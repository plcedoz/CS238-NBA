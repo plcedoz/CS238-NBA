{
 "cells": [
  {
   "cell_type": "code",
   "execution_count": null,
   "metadata": {},
   "outputs": [],
   "source": [
    "import numpy as np\n",
    "\n",
    "from team import get_teams\n",
    "from mdp import MDP\n",
    "\n",
    "\n",
    "teams = get_teams(\"teams_data.csv\")\n",
    "teams = {Id:teams[Id] for Id in range(5)}\n",
    "team_index = 0\n",
    "discount = 1\n",
    "learning_rate = 0.1\n",
    "epsilon = 0.5\n",
    "nb_seasons = 10\n",
    "\n",
    "mdp = MDP(teams, team_index, discount)\n",
    "mdp.q_learning(learning_rate, epsilon, nb_seasons)\n"
   ]
  },
  {
   "cell_type": "code",
   "execution_count": null,
   "metadata": {},
   "outputs": [],
   "source": [
    "\n",
    "team = teams[team_index]\n",
    "opponents_Ids = [Id for Id in teams.keys() if Id != team_index]\n",
    "nb_seasons = 10\n",
    "\n",
    "for iteration in range(nb_seasons):\n",
    "    for opponent_Id in opponents_Ids:\n",
    "        action = np.random.choice([\"A\",\"B\",\"C\"])\n",
    "        opponent = teams[opponent_Id]\n",
    "        current_state = str(tuple(team.repeatPenalty.values()))\n",
    "        reward = get_reward(team, opponent, action)\n",
    "        team.update(action)\n",
    "        next_state = str(tuple(team.repeatPenalty.values()))\n",
    "        mdp.Q.loc[current_state, action] += learning_rate*(reward + mdp.discount*np.max([mdp.Q.loc[next_state, next_action] for next_action in mdp.actions]) - mdp.Q.loc[current_state, action])\n",
    "    team.reset()"
   ]
  },
  {
   "cell_type": "code",
   "execution_count": null,
   "metadata": {},
   "outputs": [],
   "source": [
    "np.argmax(mdp.Q.loc[\"(0, 0, 0)\", :])"
   ]
  },
  {
   "cell_type": "code",
   "execution_count": null,
   "metadata": {},
   "outputs": [],
   "source": [
    "mdp.Q.loc[\"(0, 0, 0)\", :]"
   ]
  },
  {
   "cell_type": "code",
   "execution_count": null,
   "metadata": {
    "collapsed": true
   },
   "outputs": [],
   "source": []
  },
  {
   "cell_type": "code",
   "execution_count": null,
   "metadata": {
    "collapsed": true
   },
   "outputs": [],
   "source": []
  },
  {
   "cell_type": "code",
   "execution_count": null,
   "metadata": {},
   "outputs": [],
   "source": [
    "mdp.Q.loc[current_state, action]"
   ]
  },
  {
   "cell_type": "code",
   "execution_count": null,
   "metadata": {
    "collapsed": true
   },
   "outputs": [],
   "source": [
    "mdp."
   ]
  },
  {
   "cell_type": "code",
   "execution_count": null,
   "metadata": {},
   "outputs": [],
   "source": [
    "\n",
    "\n",
    "for Id in range(N):\n",
    "    #action = explore()\n",
    "    action = \"A\"\n",
    "    current_state = team1.repeatPenaltyArr\n",
    "    reward, team1 = get_reward_next_state(team1, action, allteams)\n",
    "    next_state = team1.repeatPenaltyArr\n",
    "    self.Q.loc[current_state, action] += learning_rate*(reward + self.discount*np.max([self.Q.loc[next_state, next_action] for next_action in self.actions]) - self.Q.loc[current_state, action])"
   ]
  },
  {
   "cell_type": "code",
   "execution_count": null,
   "metadata": {
    "collapsed": true
   },
   "outputs": [],
   "source": [
    "test = {\"A\":18, \"B\":10}"
   ]
  },
  {
   "cell_type": "code",
   "execution_count": null,
   "metadata": {},
   "outputs": [],
   "source": [
    "list(test.keys())[np.argmax(list(test.values()))]"
   ]
  },
  {
   "cell_type": "code",
   "execution_count": null,
   "metadata": {},
   "outputs": [],
   "source": [
    "np.argmax(list(test.values()))"
   ]
  },
  {
   "cell_type": "code",
   "execution_count": null,
   "metadata": {
    "collapsed": true
   },
   "outputs": [],
   "source": []
  }
 ],
 "metadata": {
  "kernelspec": {
   "display_name": "Python 3",
   "language": "python",
   "name": "python3"
  },
  "language_info": {
   "codemirror_mode": {
    "name": "ipython",
    "version": 3
   },
   "file_extension": ".py",
   "mimetype": "text/x-python",
   "name": "python",
   "nbconvert_exporter": "python",
   "pygments_lexer": "ipython3",
   "version": "3.6.3"
  }
 },
 "nbformat": 4,
 "nbformat_minor": 2
}
